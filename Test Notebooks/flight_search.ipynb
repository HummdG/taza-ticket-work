{
  "cells": [
    {
      "cell_type": "code",
      "execution_count": null,
      "metadata": {},
      "outputs": [],
      "source": [
        "import os\n",
        "from dotenv import load_dotenv\n",
        "\n",
        "load_dotenv() \n",
        "\n",
        "CLIENT_ID       = os.getenv(\"TRAVELPORT_APPLICATION_KEY\")\n",
        "CLIENT_SECRET   = os.getenv(\"TRAVELPORT_APPLICATION_SECRET\")\n",
        "USERNAME        = os.getenv(\"TRAVELPORT_USERNAME\")\n",
        "PASSWORD        = os.getenv(\"TRAVELPORT_PASSWORD\")\n",
        "ACCESS_GROUP    = os.getenv(\"TRAVELPORT_ACCESS_GROUP\")\n",
        "\n",
        "OAUTH_URL       = \"https://oauth.pp.travelport.com/oauth/oauth20/token\"\n",
        "CATALOG_URL     = \"https://api.pp.travelport.com/11/air/catalog/search/catalogproductofferings\"\n"
      ]
    },
    {
      "cell_type": "code",
      "execution_count": 48,
      "metadata": {},
      "outputs": [
        {
          "name": "stdout",
          "output_type": "stream",
          "text": [
            "🔑 Token obtained: eyJhbGciOiJkaXIiLCJl…\n"
          ]
        }
      ],
      "source": [
        "import requests\n",
        "\n",
        "def fetch_password_token():\n",
        "    data = {\n",
        "        \"grant_type\":    \"password\",\n",
        "        \"username\":      USERNAME,\n",
        "        \"password\":      PASSWORD,\n",
        "        \"client_id\":     CLIENT_ID,\n",
        "        \"client_secret\": CLIENT_SECRET,\n",
        "        \"scope\":         \"openid\"\n",
        "    }\n",
        "    resp = requests.post(\n",
        "        OAUTH_URL,\n",
        "        headers={\"Content-Type\": \"application/x-www-form-urlencoded\"},\n",
        "        data=data\n",
        "    )\n",
        "    resp.raise_for_status()\n",
        "    return resp.json()[\"access_token\"]\n",
        "\n",
        "token = fetch_password_token()\n",
        "print(f\"🔑 Token obtained: {token[:20]}…\")"
      ]
    },
    {
      "cell_type": "code",
      "execution_count": 49,
      "metadata": {},
      "outputs": [
        {
          "name": "stdout",
          "output_type": "stream",
          "text": [
            "📋 Headers built\n"
          ]
        }
      ],
      "source": [
        "headers = {\n",
        "    \"Accept\":                       \"application/json\",\n",
        "    \"Content-Type\":                 \"application/json\",\n",
        "    \"Accept-Encoding\":              \"gzip, deflate\",\n",
        "    \"Cache-Control\":                \"no-cache\",\n",
        "    \"Authorization\":                f\"Bearer {token}\",\n",
        "    \"XAUTH_TRAVELPORT_ACCESSGROUP\": ACCESS_GROUP,\n",
        "    \"Accept-Version\":               \"11\",\n",
        "    \"Content-Version\":              \"11\",\n",
        "}\n",
        "print(\"📋 Headers built\")"
      ]
    },
    {
      "cell_type": "code",
      "execution_count": null,
      "metadata": {},
      "outputs": [],
      "source": [
        "from datetime import datetime, timedelta\n",
        "import json\n",
        "\n",
        "# Compute or set your travel dates here:\n",
        "departure_date = (datetime.utcnow() + timedelta(days=30)).strftime(\"%Y-%m-%d\")\n",
        "return_date    = (datetime.utcnow() + timedelta(days=37)).strftime(\"%Y-%m-%d\")\n",
        "from_city = \"LHE\"\n",
        "to_city = \"ATH\"\n",
        "carrier_list = [\"QR\", \"EY\", \"GF\", \"SV\"]\n",
        "\n",
        "payload = {\n",
        "    \"@type\": \"CatalogProductOfferingsQueryRequest\",\n",
        "    \"CatalogProductOfferingsRequest\": {\n",
        "        \"@type\": \"CatalogProductOfferingsRequestAir\",\n",
        "        \"maxNumberOfUpsellsToReturn\": 1,\n",
        "        \"contentSourceList\": [\"GDS\"],\n",
        "        \"PassengerCriteria\": [\n",
        "            {\n",
        "                \"@type\": \"PassengerCriteria\",\n",
        "                \"number\": 1,\n",
        "                \"age\": 25,\n",
        "                \"passengerTypeCode\": \"ADT\"\n",
        "            }\n",
        "        ],\n",
        "        \"SearchCriteriaFlight\": [\n",
        "            {\n",
        "                \"@type\": \"SearchCriteriaFlight\",\n",
        "                \"departureDate\": departure_date,   \n",
        "                \"From\": {\"value\": from_city},\n",
        "                \"To\":   {\"value\": to_city}\n",
        "            },\n",
        "            {\n",
        "                \"@type\": \"SearchCriteriaFlight\",\n",
        "                \"departureDate\": return_date,      \n",
        "                \"From\": {\"value\": to_city},\n",
        "                \"To\":   {\"value\": from_city}\n",
        "            }\n",
        "        ],\n",
        "        \"SearchModifiersAir\": {\n",
        "            \"@type\": \"SearchModifiersAir\",\n",
        "            \"CarrierPreference\": [\n",
        "                {\n",
        "                    \"@type\": \"CarrierPreference\",\n",
        "                    \"preferenceType\": \"Preferred\",\n",
        "                    \"carriers\": carrier_list\n",
        "                }\n",
        "            ]\n",
        "        },\n",
        "        \"CustomResponseModifiersAir\": {\n",
        "            \"@type\": \"CustomResponseModifiersAir\",\n",
        "            \"SearchRepresentation\": \"Journey\"\n",
        "        }\n",
        "    }\n",
        "}\n",
        "\n",
        "print(json.dumps(payload, indent=2))\n"
      ]
    },
    {
      "cell_type": "code",
      "execution_count": null,
      "metadata": {},
      "outputs": [],
      "source": [
        "response = requests.post(CATALOG_URL, headers=headers, json=payload)\n",
        "try:\n",
        "    response.raise_for_status()\n",
        "    result = response.json()\n",
        "    import json\n",
        "    print(json.dumps(result, indent=2))\n",
        "except requests.HTTPError as e:\n",
        "    print(\"❌ Request failed:\", e)\n",
        "    print(response.status_code, response.text)"
      ]
    }
  ],
  "metadata": {
    "kernelspec": {
      "display_name": "base",
      "language": "python",
      "name": "python3"
    },
    "language_info": {
      "codemirror_mode": {
        "name": "ipython",
        "version": 3
      },
      "file_extension": ".py",
      "mimetype": "text/x-python",
      "name": "python",
      "nbconvert_exporter": "python",
      "pygments_lexer": "ipython3",
      "version": "3.11.7"
    }
  },
  "nbformat": 4,
  "nbformat_minor": 2
}
